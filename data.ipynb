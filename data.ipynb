{
  "nbformat": 4,
  "nbformat_minor": 0,
  "metadata": {
    "colab": {
      "provenance": [],
      "machine_shape": "hm"
    },
    "kernelspec": {
      "name": "python3",
      "display_name": "Python 3"
    },
    "language_info": {
      "name": "python"
    }
  },
  "cells": [
    {
      "cell_type": "code",
      "source": [
        "!pip install pydicom"
      ],
      "metadata": {
        "colab": {
          "base_uri": "https://localhost:8080/"
        },
        "id": "WOwxKWL5d8fF",
        "outputId": "6f016f86-38c4-4a83-c3b9-5883c84d3942"
      },
      "execution_count": 1,
      "outputs": [
        {
          "output_type": "stream",
          "name": "stdout",
          "text": [
            "Collecting pydicom\n",
            "  Downloading pydicom-3.0.1-py3-none-any.whl.metadata (9.4 kB)\n",
            "Downloading pydicom-3.0.1-py3-none-any.whl (2.4 MB)\n",
            "\u001b[?25l   \u001b[90m━━━━━━━━━━━━━━━━━━━━━━━━━━━━━━━━━━━━━━━━\u001b[0m \u001b[32m0.0/2.4 MB\u001b[0m \u001b[31m?\u001b[0m eta \u001b[36m-:--:--\u001b[0m\r\u001b[2K   \u001b[91m━━\u001b[0m\u001b[91m╸\u001b[0m\u001b[90m━━━━━━━━━━━━━━━━━━━━━━━━━━━━━━━━━━━━━\u001b[0m \u001b[32m0.2/2.4 MB\u001b[0m \u001b[31m4.3 MB/s\u001b[0m eta \u001b[36m0:00:01\u001b[0m\r\u001b[2K   \u001b[91m━━━━━━━━━━━━━━━━━━\u001b[0m\u001b[90m╺\u001b[0m\u001b[90m━━━━━━━━━━━━━━━━━━━━━\u001b[0m \u001b[32m1.1/2.4 MB\u001b[0m \u001b[31m16.2 MB/s\u001b[0m eta \u001b[36m0:00:01\u001b[0m\r\u001b[2K   \u001b[90m━━━━━━━━━━━━━━━━━━━━━━━━━━━━━━━━━━━━━━━━\u001b[0m \u001b[32m2.4/2.4 MB\u001b[0m \u001b[31m23.7 MB/s\u001b[0m eta \u001b[36m0:00:00\u001b[0m\n",
            "\u001b[?25hInstalling collected packages: pydicom\n",
            "Successfully installed pydicom-3.0.1\n"
          ]
        }
      ]
    },
    {
      "cell_type": "code",
      "execution_count": 2,
      "metadata": {
        "id": "eOvaVl1adm9V"
      },
      "outputs": [],
      "source": [
        "import pydicom\n",
        "import matplotlib.pyplot as plt\n",
        "import os\n",
        "import cv2\n",
        "import numpy as np\n",
        "import shutil\n",
        "from concurrent.futures import ProcessPoolExecutor\n"
      ]
    },
    {
      "cell_type": "code",
      "source": [
        "def process_dicom(filepath, target_resolution=(1024, 1024), output_root=\"/content/processed_patients\"):\n",
        "    try:\n",
        "        relative_path = os.path.relpath(filepath, folder_path)\n",
        "        output_file_path = os.path.join(output_root, os.path.dirname(relative_path), \"processed_resized\")\n",
        "        os.makedirs(output_file_path, exist_ok=True)\n",
        "\n",
        "        filename = os.path.basename(filepath)\n",
        "        dataset = pydicom.dcmread(filepath)\n",
        "\n",
        "        if not hasattr(dataset, \"pixel_array\"):\n",
        "            print(f\"Skipping {filepath}: No pixel data found.\")\n",
        "            return\n",
        "\n",
        "        image_data = dataset.pixel_array\n",
        "        if image_data is None or image_data.size == 0:\n",
        "            print(f\"Skipping {filepath}: Empty pixel array.\")\n",
        "            return\n",
        "\n",
        "        # Handle 4D DICOM\n",
        "        if image_data.ndim == 4:\n",
        "            for slice_idx in range(image_data.shape[0]):\n",
        "                slice_image = image_data[slice_idx]\n",
        "                resized_image = cv2.resize(slice_image, target_resolution, interpolation=cv2.INTER_LINEAR)\n",
        "                output_filename = f\"{filename}_slice_{slice_idx + 1}.jpg\"\n",
        "                output_path = os.path.join(output_file_path, output_filename)\n",
        "                cv2.imwrite(output_path, resized_image, [cv2.IMWRITE_JPEG_QUALITY, 85])\n",
        "\n",
        "        # Handle 3D DICOM\n",
        "        elif image_data.ndim == 3:\n",
        "            resized_image = cv2.resize(image_data, target_resolution, interpolation=cv2.INTER_LINEAR)\n",
        "            output_filename = f\"{filename}.jpg\"\n",
        "            output_path = os.path.join(output_file_path, output_filename)\n",
        "            cv2.imwrite(output_path, resized_image, [cv2.IMWRITE_JPEG_QUALITY, 85])\n",
        "\n",
        "    except Exception as e:\n",
        "        print(f\"Error processing {filepath}: {e}\")\n",
        "\n",
        "\n",
        "# Function to split files into chunks\n",
        "def chunk_list(data, chunk_size):\n",
        "    for i in range(0, len(data), chunk_size):\n",
        "        yield data[i:i + chunk_size]\n",
        "\n",
        "# Function to run with ProcessPoolExecutor\n",
        "def run_with_processes(dicom_files, target_resolution, output_root):\n",
        "    with ProcessPoolExecutor(max_workers=8) as executor:  # Adjust max_workers as needed\n",
        "        futures = []\n",
        "        for file in dicom_files:\n",
        "            futures.append(\n",
        "                executor.submit(process_dicom, file, target_resolution, output_root)\n",
        "            )\n",
        "        for future in futures:\n",
        "            try:\n",
        "                future.result()\n",
        "            except Exception as e:\n",
        "                print(f\"Error in parallel processing: {e}\")\n",
        "\n",
        "# Function to run with ThreadPoolExecutor (fallback)\n",
        "def run_with_threads(dicom_files, target_resolution, output_root):\n",
        "    with ThreadPoolExecutor(max_workers=8) as executor:  # Adjust max_workers as needed\n",
        "        executor.map(lambda file: process_dicom(file, target_resolution, output_root), dicom_files)\n",
        "\n",
        "# # Step 1: Copy folder to local storage\n",
        "# src_folder = \"/content/drive/MyDrive/patients\"\n",
        "# dst_folder = \"/content/patients\"\n",
        "\n",
        "# print(\"Copying files to local storage...\")\n",
        "#shutil.copytree(src_folder, dst_folder)\n",
        "# print(\"Copy complete!\")\n",
        "\n",
        "# Step 2: Traverse all DICOM files\n",
        "folder_path = \"/content/patients\"\n",
        "output_root = \"/content/processed_patients\"\n",
        "target_resolution = (1024, 1024)\n",
        "\n",
        "# Collect all DICOM files\n",
        "dicom_files = []\n",
        "for root, _, files in os.walk(folder_path):\n",
        "    for filename in files:\n",
        "        if filename.endswith(\".dcm\"):\n",
        "            dicom_files.append(os.path.join(root, filename))\n",
        "\n",
        "print(f\"Total DICOM files found: {len(dicom_files)}\")\n",
        "\n",
        "# Step 3: Parallel Processing\n",
        "try:\n",
        "    print(\"Starting parallel processing with processes...\")\n",
        "    run_with_processes(dicom_files, target_resolution, output_root)\n",
        "except Exception as e:\n",
        "    print(f\"Process-based parallelization failed: {e}\")\n",
        "    print(\"Falling back to threads...\")\n",
        "    run_with_threads(dicom_files, target_resolution, output_root)\n",
        "\n",
        "# Step 4: Zip processed results\n",
        "print(\"Zipping processed files...\")\n",
        "output_zip_path = \"/content/processed_results\"\n",
        "shutil.make_archive(output_zip_path, 'zip', output_root)\n",
        "print(\"Zipping complete!\")\n",
        "\n",
        "# Step 5: Copy results back to Google Drive\n",
        "print(\"Saving zip file to Google Drive...\")\n",
        "shutil.move(f\"{output_zip_path}.zip\", \"/content/drive/MyDrive/processed_results.zip\")\n",
        "print(\"Upload complete! All processing done.\")\n"
      ],
      "metadata": {
        "colab": {
          "base_uri": "https://localhost:8080/"
        },
        "id": "vr_87ZJjYM43",
        "outputId": "c8e47a0c-c2ea-4c0f-b419-c1f97a732d80"
      },
      "execution_count": 12,
      "outputs": [
        {
          "output_type": "stream",
          "name": "stdout",
          "text": [
            "Total DICOM files found: 4319\n",
            "Starting parallel processing with processes...\n",
            "Zipping processed files...\n",
            "Zipping complete!\n",
            "Saving zip file to Google Drive...\n",
            "Upload complete! All processing done.\n"
          ]
        }
      ]
    },
    {
      "cell_type": "code",
      "source": [
        "import os\n",
        "import cv2\n",
        "import pydicom\n",
        "\n",
        "# Target resolution for resizing\n",
        "target_resolution = (224, 224)\n",
        "\n",
        "# Process each DICOM file recursively\n",
        "for root, _, files in os.walk(\"/content/drive/MyDrive/annotations\"):\n",
        "    # Check if there are DICOM files in the current folder\n",
        "    dicom_files = [f for f in files if f.endswith(\".dcm\")]\n",
        "    if not dicom_files:\n",
        "        continue\n",
        "\n",
        "    # Create a \"processed_resized_224\" subfolder in the current folder\n",
        "    output_folder = os.path.join(root, \"processed_resized_224\")\n",
        "    os.makedirs(output_folder, exist_ok=True)\n",
        "\n",
        "    # Process each DICOM file\n",
        "    for filename in dicom_files:\n",
        "        filepath = os.path.join(root, filename)\n",
        "        dataset = pydicom.dcmread(filepath)\n",
        "        image_data = dataset.pixel_array  # Shape: (num_slices, height, width, channels)\n",
        "\n",
        "        if image_data.ndim == 4:  # For 4D DICOM files\n",
        "            for slice_idx in range(image_data.shape[0]):\n",
        "                slice_image = image_data[slice_idx]\n",
        "                resized_image = cv2.resize(slice_image, target_resolution, interpolation=cv2.INTER_LINEAR)\n",
        "                output_path = os.path.join(output_folder, f\"{filename}_slice_{slice_idx + 1}.jpg\")\n",
        "                cv2.imwrite(output_path, resized_image, [cv2.IMWRITE_JPEG_QUALITY, 95])\n",
        "\n",
        "        elif image_data.ndim == 3:  # For 3D DICOM files\n",
        "            for slice_idx in range(image_data.shape[0]):\n",
        "                slice_image = image_data[slice_idx]\n",
        "                resized_image = cv2.resize(slice_image, target_resolution, interpolation=cv2.INTER_LINEAR)\n",
        "                output_path = os.path.join(output_folder, f\"{filename}_slice_{slice_idx + 1}.jpg\")\n",
        "                cv2.imwrite(output_path, resized_image, [cv2.IMWRITE_JPEG_QUALITY, 95])\n"
      ],
      "metadata": {
        "id": "Agxyl7MES9g-"
      },
      "execution_count": 4,
      "outputs": []
    },
    {
      "cell_type": "code",
      "source": [],
      "metadata": {
        "id": "eKgF2m7ifOtj"
      },
      "execution_count": null,
      "outputs": []
    }
  ]
}